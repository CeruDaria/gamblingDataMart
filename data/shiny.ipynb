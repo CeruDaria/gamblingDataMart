{
 "cells": [
  {
   "cell_type": "markdown",
   "id": "f83b36af",
   "metadata": {},
   "source": [
    "# Actual Internet Sports Gambling Activity\n",
    "\n",
    "---"
   ]
  },
  {
   "cell_type": "markdown",
   "id": "a0b0c05f",
   "metadata": {},
   "source": [
    "*by Nam NGUYEN*"
   ]
  },
  {
   "cell_type": "markdown",
   "id": "c919dfbc",
   "metadata": {},
   "source": [
    "This is a revised version of the original notebook that includes more variables, cleaner codes and less clutter."
   ]
  },
  {
   "cell_type": "markdown",
   "id": "2a0dd581",
   "metadata": {},
   "source": [
    "## Initializing the enviroment/packages/libraries/data"
   ]
  },
  {
   "cell_type": "code",
   "execution_count": 64,
   "id": "6fd71ae8",
   "metadata": {
    "vscode": {
     "languageId": "r"
    }
   },
   "outputs": [],
   "source": [
    "# Initializing\n",
    "library(\"haven\")\n",
    "library(\"dplyr\")\n",
    "library(\"tidyr\")\n",
    "library(\"readxl\")\n",
    "library(\"lubridate\")"
   ]
  },
  {
   "cell_type": "code",
   "execution_count": 65,
   "id": "663d489a",
   "metadata": {
    "vscode": {
     "languageId": "r"
    }
   },
   "outputs": [],
   "source": [
    "# Getting data from sas7bdat\n",
    "demo <- read_sas(\"RawDataIDemographics.sas7bdat\")\n",
    "pcc <- read_sas(\"RawDataIIIPokerChipConversions.sas7bdat\")\n",
    "uda <- read_sas(\"RawDataIIUserDailyAggregation.sas7bdat\")"
   ]
  },
  {
   "cell_type": "code",
   "execution_count": 66,
   "id": "18a8a7d1",
   "metadata": {
    "vscode": {
     "languageId": "r"
    }
   },
   "outputs": [],
   "source": [
    "# Getting appendices\n",
    "file <- \"Appendices Group Assignment.xlsx\"\n",
    "\n",
    "product <- read_excel(file, sheet = 1, col_names = c(\"ProductID\", \"ProductDesc\"), skip = 1)\n",
    "country <- read_excel(file, sheet = 2, col_names = c(\"Country\", \"CountryName\"), skip = 1)\n",
    "lang <- read_excel(file, sheet = 3, col_names = c(\"Language\", \"LangDesc\"), skip = 1)\n",
    "app <- read_excel(file, sheet = 4, col_names = c(\"ApplicationID\", \"AppDesc\"), skip = 1)"
   ]
  },
  {
   "cell_type": "code",
   "execution_count": 67,
   "id": "944e2ef6",
   "metadata": {
    "vscode": {
     "languageId": "r"
    }
   },
   "outputs": [],
   "source": [
    "# Turning off scientific notation\n",
    "options(scipen=999)"
   ]
  },
  {
   "cell_type": "markdown",
   "id": "a5eaa3f2",
   "metadata": {},
   "source": [
    "## Data cleaning"
   ]
  },
  {
   "cell_type": "code",
   "execution_count": 68,
   "id": "c1e95c12",
   "metadata": {},
   "outputs": [],
   "source": [
    "# Imputing missing gender in demo + removing duplicates\n",
    "demo[is.na(demo$Gender), \"Gender\"] <- which.max((demo$Gender))\n",
    "pcc_nodupe <- pcc %>% distinct()\n",
    "uda_nodupe <- uda %>% distinct()"
   ]
  },
  {
   "cell_type": "markdown",
   "id": "9ee976d5",
   "metadata": {},
   "source": [
    "## Feature engineering"
   ]
  },
  {
   "cell_type": "markdown",
   "id": "e7a42c65",
   "metadata": {},
   "source": [
    "### Demographics"
   ]
  },
  {
   "cell_type": "code",
   "execution_count": 69,
   "id": "9476feac",
   "metadata": {
    "scrolled": true,
    "vscode": {
     "languageId": "r"
    }
   },
   "outputs": [],
   "source": [
    "# Cleaning, joining with appendices and data type \n",
    "demo[is.na(demo$Gender), \"Gender\"] <- which.max((demo$Gender))\n",
    "\n",
    "demo_cleaned <- demo %>%\n",
    "    left_join(country, by = \"Country\") %>%\n",
    "    left_join(lang, by = \"Language\") %>%\n",
    "    left_join(app, by = \"ApplicationID\") %>%\n",
    "    mutate(RegDate = as.Date(RegDate), \n",
    "           FirstPay = ymd(FirstPay, quiet = TRUE),\n",
    "           FirstAct = ymd(FirstAct, quiet = TRUE),\n",
    "           Gender = factor(Gender, labels = c(\"Female\", \"Male\")),\n",
    "           UserID = as.character(UserID)\n",
    "          ) %>%\n",
    "    # Since we will have the first play date for each product and the categorization of these products are not clear, we will be removing the 4 first-day variables\n",
    "    select(-c(FirstSp, FirstCa, FirstGa, FirstPo, Country, Language, ApplicationID)) %>%\n",
    "    filter(RegDate %within% interval(ymd(\"2005-02-01\"), ymd(\"2005-02-27\")), !is.na(FirstAct))"
   ]
  },
  {
   "cell_type": "markdown",
   "id": "53b7d55e",
   "metadata": {},
   "source": [
    "### Poker Chip Conversions"
   ]
  },
  {
   "cell_type": "code",
   "execution_count": 70,
   "id": "b20abd4b",
   "metadata": {
    "vscode": {
     "languageId": "r"
    }
   },
   "outputs": [],
   "source": [
    "# Data type conversion\n",
    "pcc_cleaned <- pcc_nodupe %>%\n",
    "    mutate(UserID = as.character(UserID), \n",
    "           TransDateTimeDTTM = ymd_hms(TransDateTime), \n",
    "           TransType = factor(TransType, labels = c(\"Buy\", \"Sell\"))) %>%\n",
    "    select(-TransDateTime)"
   ]
  },
  {
   "cell_type": "code",
   "execution_count": 71,
   "id": "60501c4b",
   "metadata": {
    "vscode": {
     "languageId": "r"
    }
   },
   "outputs": [],
   "source": [
    "# Compiling simple statistics\n",
    "pcc_enriched <- pcc_cleaned %>%\n",
    "    group_by(UserID) %>%\n",
    "    summarize(\n",
    "        NumberOfTimesSelling = sum(TransType == \"Sell\"),\n",
    "        NumberOfTimesBuying = sum(TransType == \"Buy\"),\n",
    "        TotalSellingAmount = sum((TransType == \"Sell\") * TransAmount),\n",
    "        TotalBuyingAmount = sum((TransType == \"Buy\") * TransAmount),\n",
    "        AverageBuyOrderValue = TotalBuyingAmount / NumberOfTimesBuying,\n",
    "        Earnings = TotalSellingAmount - TotalBuyingAmount,\n",
    "        IsProfiting = ifelse(Earnings > 0, 1, 0),\n",
    "        FirstTransactionDate = min(TransDateTimeDTTM),\n",
    "        LastTransactionDate = max(TransDateTimeDTTM),\n",
    "        LifespanInMonths = floor(as.numeric(FirstTransactionDate %--% LastTransactionDate, \"months\")) + 1,\n",
    "        MonthlySpending = TotalBuyingAmount / LifespanInMonths,\n",
    "        MonthlyOrders = NumberOfTimesBuying / LifespanInMonths,\n",
    "    )\n",
    "\n",
    "# Getting buying and selling amount for each month\n",
    "for (i in min(unique(month(pcc_cleaned$TransDateTimeDTTM))):max(unique(month(pcc_cleaned$TransDateTimeDTTM)))) {\n",
    "    temp <- pcc_cleaned %>%\n",
    "        group_by(UserID) %>%\n",
    "        summarize(\n",
    "            Buying = sum((month(TransDateTimeDTTM) == i) * (TransType == \"Buy\")),\n",
    "            Selling = sum((month(TransDateTimeDTTM) == i) * (TransType == \"Sell\")),\n",
    "            BuyingAmount = sum((month(TransDateTimeDTTM) == i) * (TransType == \"Buy\") * TransAmount),\n",
    "            SellingAmount = sum((month(TransDateTimeDTTM) == i) * (TransType == \"Sell\") * TransAmount),\n",
    "        )\n",
    "    colnames(temp)[-1] <- lapply(colnames(temp)[-1], function(x) paste(month.abb[i], x, sep = \"_\"))\n",
    "    pcc_enriched <- pcc_enriched %>%\n",
    "        left_join(temp, by = \"UserID\")\n",
    "}\n",
    "\n",
    "colnames(pcc_enriched)[-1] <- lapply(colnames(pcc_enriched)[-1], function(x) paste(\"Poker\", x, sep = \"_\"))"
   ]
  },
  {
   "cell_type": "code",
   "execution_count": 72,
   "id": "23122d74",
   "metadata": {
    "vscode": {
     "languageId": "r"
    }
   },
   "outputs": [],
   "source": [
    "# Creating a staging table to calculate customer purchasing behaviors\n",
    "pcc_timediff <- pcc_cleaned %>%\n",
    "    filter(TransType == \"Buy\") %>%\n",
    "    arrange(UserID, TransDateTimeDTTM) %>%\n",
    "    mutate(\n",
    "        PokerDateTimeDiff = ifelse(UserID != lag(UserID), NA, c(NA, as.numeric(as.period(diff(TransDateTimeDTTM)), \"days\"))),\n",
    "        PokerDateDayDiff = ifelse(UserID != lag(UserID), NA, c(NA, as.numeric(as.period(diff(as_date(TransDateTimeDTTM))), \"days\"))),\n",
    "        StreakMarks = cumsum(ifelse((replace(PokerDateDayDiff,is.na(PokerDateDayDiff),999)) <= 2, 0, 1))\n",
    "    )\n",
    "\n",
    "pcc_streak <- pcc_timediff %>% count(StreakMarks, name = \"StreakLength\")\n",
    "\n",
    "pcc_timediff <- merge(pcc_timediff, pcc_streak, by = \"StreakMarks\")"
   ]
  },
  {
   "cell_type": "code",
   "execution_count": 73,
   "id": "baa56dcd",
   "metadata": {
    "vscode": {
     "languageId": "r"
    }
   },
   "outputs": [],
   "source": [
    "# Summarizing the staging table\n",
    "pcc_timediff <- pcc_timediff %>%\n",
    "    group_by(UserID) %>%\n",
    "    summarize(\n",
    "        NumberOfStreaks = ifelse(n() == n_distinct(StreakMarks), 0, n_distinct(StreakMarks)),\n",
    "        ShortestStreak = ifelse(NumberOfStreaks == 0, 0, min(StreakLength)),\n",
    "        LongestStreak = ifelse(NumberOfStreaks == 0, 0, max(StreakLength)),\n",
    "        ShortestGapBtwOrders = ifelse(n() == 1, NA, min(PokerDateTimeDiff, na.rm = TRUE)),\n",
    "        LongestGapBtwOrders = ifelse(n() == 1, NA, max(PokerDateTimeDiff, na.rm = TRUE)),\n",
    "        AverageDaysBtwOrders = ifelse(n() == 1, NA, mean(PokerDateTimeDiff, na.rm = TRUE))\n",
    "    )\n",
    "\n",
    "colnames(pcc_timediff)[-1] <- lapply(colnames(pcc_timediff)[-1], function(x) paste(\"Poker\", x, sep = \"_\"))"
   ]
  },
  {
   "cell_type": "code",
   "execution_count": 74,
   "id": "52bcf3ac",
   "metadata": {
    "vscode": {
     "languageId": "r"
    }
   },
   "outputs": [],
   "source": [
    "# Merging into one\n",
    "pcc_enriched <- left_join(pcc_enriched, pcc_timediff, by = \"UserID\")"
   ]
  },
  {
   "cell_type": "markdown",
   "id": "0cb175c9",
   "metadata": {},
   "source": [
    "### User Daily Aggregation"
   ]
  },
  {
   "cell_type": "code",
   "execution_count": 75,
   "id": "76cb961c",
   "metadata": {
    "vscode": {
     "languageId": "r"
    }
   },
   "outputs": [],
   "source": [
    "# Joining with appendices, joining with demo to get rid of dates after the first-pay date, filtering out erroneous data \n",
    "# and data type conversion\n",
    "uda_cleaned <- uda_nodupe %>% \n",
    "    filter(!(Stakes == 0 & Winnings == 0 & Bets == 0), # Removing 186,435 rows\n",
    "           !(Stakes < 0 & Winnings < 0 & Bets < 0), # Removing 1 all-negative row\n",
    "          ) %>%   \n",
    "    mutate(Winnings = ifelse(Winnings < 0, 0, Winnings), # Replacing negative winnings with 0\n",
    "           UserID = as.character(UserID), Date = ymd(Date)\n",
    "          ) %>%\n",
    "    left_join(select(demo_cleaned, UserID, FirstPay), by = \"UserID\") %>%\n",
    "    filter(Date >= FirstPay)"
   ]
  },
  {
   "cell_type": "code",
   "execution_count": 76,
   "id": "16a99139",
   "metadata": {
    "vscode": {
     "languageId": "r"
    }
   },
   "outputs": [],
   "source": [
    "# A function to create variables for each product id to be used later in a loop\n",
    "create_var <- function(pid) {\n",
    "    p <- uda_cleaned %>%\n",
    "        filter(ProductID == pid) %>%\n",
    "        group_by(UserID) %>%\n",
    "        summarize(\n",
    "            FirstPlayDate = min(Date),\n",
    "            LastPlayDate = max(Date),\n",
    "            TotalStakes = sum(Stakes),\n",
    "            TotalWinnings = sum(Winnings),\n",
    "            TotalBets = sum(Bets),\n",
    "            TotalProfits = TotalWinnings - TotalStakes,\n",
    "            IsProfiting = ifelse(TotalProfits > 0, 1, 0),\n",
    "            LifespanInMonths = floor(as.numeric(FirstPlayDate %--% LastPlayDate, \"months\")) + 1,\n",
    "            AvgStakesOverLifespan = TotalStakes / LifespanInMonths,\n",
    "            AvgStakesPerBet = TotalStakes / TotalBets,\n",
    "            AvgWinningsOverLifespan = TotalWinnings / LifespanInMonths,\n",
    "            AvgWinningsPerBet = TotalWinnings / TotalBets,\n",
    "            AvgBetsOverLifespan = TotalBets / LifespanInMonths\n",
    "        )\n",
    "    \n",
    "    # Creating monthly variables\n",
    "    for (i in min(unique(month(uda_cleaned$Date))):max(unique(month(uda_cleaned$Date)))) {\n",
    "        temp <- uda_cleaned %>%\n",
    "            group_by(UserID) %>%\n",
    "            summarize(\n",
    "                Stakes = sum((month(Date) == i) * Stakes),\n",
    "                Winnings = sum((month(Date) == i) * Winnings),\n",
    "                Bets = sum((month(Date) == i) * Bets),\n",
    "                Profits = sum((month(Date) == i) * (Winnings - Stakes)),\n",
    "            )\n",
    "        colnames(temp)[-1] <- lapply(colnames(temp)[-1], function(x) paste(month.abb[i], x, sep = \"_\"))\n",
    "        p <- p %>%\n",
    "            left_join(temp, by = \"UserID\")\n",
    "    }\n",
    "    \n",
    "    colnames(p)[-1] <- lapply(colnames(p)[-1],function(x) paste(paste(\"BettingProd\", pid, sep = \"\"), x, sep = \"_\"))\n",
    "                                                \n",
    "    return(p)\n",
    "}"
   ]
  },
  {
   "cell_type": "code",
   "execution_count": 77,
   "id": "a9a5aecf",
   "metadata": {
    "vscode": {
     "languageId": "r"
    }
   },
   "outputs": [],
   "source": [
    "# A function to generate consecutive betting days data for each product ID to be used later in a loop\n",
    "find_streak <- function(pid) {\n",
    "    uda_psubset <- uda_cleaned %>%\n",
    "        filter(ProductID == pid, Bets > 0) %>%\n",
    "        arrange(UserID, Date) %>%\n",
    "        mutate(\n",
    "            DateDiff = ifelse(UserID != lag(UserID), NA, c(NA, as.numeric(as.period(diff(Date)), \"days\"))),\n",
    "            StreakMarks = cumsum(ifelse((replace(DateDiff, is.na(DateDiff), 999)) == 1, 0, 1))\n",
    "        )\n",
    "\n",
    "    uda_streak <- uda_psubset %>% count(StreakMarks, name = \"StreakLength\")\n",
    "\n",
    "    uda_psubset <- uda_psubset %>% \n",
    "        merge(uda_streak, by = \"StreakMarks\") %>%\n",
    "        group_by(UserID) %>%\n",
    "        summarize(\n",
    "            NumberOfStreaks = ifelse(n() == n_distinct(StreakMarks), 0, n_distinct(StreakMarks)),\n",
    "            ShortestStreak = ifelse(NumberOfStreaks == 0, 0, min(StreakLength)),\n",
    "            LongestStreak = ifelse(NumberOfStreaks == 0, 0, max(StreakLength)),\n",
    "            ShortestGapBtwBets = ifelse(n() == 1, NA, min(DateDiff, na.rm = TRUE)),\n",
    "            LongestGapBtwBets = ifelse(n() == 1, NA, max(DateDiff, na.rm = TRUE)),\n",
    "            AverageDaysBtwBets = ifelse(n() == 1, NA, mean(DateDiff, na.rm = TRUE))\n",
    "    )\n",
    "    \n",
    "    # Appending the product name to each variable's name to distinguish them\n",
    "    colnames(uda_psubset)[-1] <- \n",
    "        lapply(colnames(uda_psubset)[-1],function(x) paste(paste0(\"BettingProd\", pid), x, sep = \"_\"))\n",
    "    \n",
    "    return(uda_psubset)\n",
    "}"
   ]
  },
  {
   "cell_type": "code",
   "execution_count": 78,
   "id": "7f34e282",
   "metadata": {
    "scrolled": false,
    "vscode": {
     "languageId": "r"
    }
   },
   "outputs": [],
   "source": [
    "# A loop to run through all product ids\n",
    "uda_enriched <- uda_cleaned %>%\n",
    "    select(UserID) %>%\n",
    "    distinct()\n",
    "\n",
    "for (i in 1:max(uda_cleaned$ProductID)) {\n",
    "    if (i == 3) next # No poker product in this table\n",
    "    temp1 <- create_var(i)\n",
    "    temp2 <- find_streak(i)\n",
    "    \n",
    "    uda_enriched <- uda_enriched %>%\n",
    "        left_join(temp1, by = \"UserID\") %>%\n",
    "        left_join(temp2, by = \"UserID\")\n",
    "}"
   ]
  },
  {
   "cell_type": "code",
   "execution_count": 79,
   "id": "e2ba0c8f",
   "metadata": {
    "vscode": {
     "languageId": "r"
    }
   },
   "outputs": [],
   "source": [
    "# Generating the most played betting product for one customer\n",
    "uda_temp <- uda_enriched %>% select(ends_with(\"_TotalBets\"))\n",
    "\n",
    "uda_enriched <- uda_enriched %>%\n",
    "    mutate(FavoriteBettingProduct = apply(uda_temp, 1, which.max),\n",
    "           # Because there is no Poker (id = 3)\n",
    "           FavoriteBettingProduct = ifelse(FavoriteBettingProduct > 3, FavoriteBettingProduct + 1, FavoriteBettingProduct))"
   ]
  },
  {
   "cell_type": "markdown",
   "id": "8312ea88",
   "metadata": {},
   "source": [
    "## Putting everything together"
   ]
  },
  {
   "cell_type": "code",
   "execution_count": 80,
   "id": "dde77f4c",
   "metadata": {
    "vscode": {
     "languageId": "r"
    }
   },
   "outputs": [],
   "source": [
    "# Joining all tables together\n",
    "ult_table <- demo_cleaned %>%\n",
    "    left_join(pcc_enriched, by = \"UserID\") %>%\n",
    "    left_join(uda_enriched, by = \"UserID\")"
   ]
  },
  {
   "cell_type": "code",
   "execution_count": 81,
   "id": "a659f251",
   "metadata": {
    "vscode": {
     "languageId": "r"
    }
   },
   "outputs": [],
   "source": [
    "# Updating First Active Date, which is correct most of the time, except for customers whose first pay-in date is later than\n",
    "# the original FirstAct variable\n",
    "ult_temp <- ult_table %>%\n",
    "    select(ends_with(\"_FirstPlayDate\"), Poker_FirstTransactionDate) %>%\n",
    "    mutate(Poker_FirstTransactionDate = as_date((Poker_FirstTransactionDate)))\n",
    "\n",
    "ult_table <- ult_table %>%\n",
    "    mutate(FirstActiveDate = suppressWarnings(ymd(apply(ult_temp, 1, min, na.rm = TRUE)))) %>%\n",
    "    select(-FirstAct)"
   ]
  },
  {
   "cell_type": "code",
   "execution_count": 82,
   "id": "51dcc2ef",
   "metadata": {},
   "outputs": [],
   "source": [
    "# Getting last active date\n",
    "ult_temp <- ult_table %>%\n",
    "    select(ends_with(\"_LastPlayDate\"), Poker_LastTransactionDate) %>%\n",
    "    mutate(Poker_LastTransactionDate = as.Date(Poker_LastTransactionDate))\n",
    "\n",
    "ult_table <- ult_table %>%\n",
    "    mutate(\n",
    "        LastActiveDate = suppressWarnings(ymd(apply(ult_temp, 1, max, na.rm = TRUE))),\n",
    "    )"
   ]
  },
  {
   "cell_type": "code",
   "execution_count": 83,
   "id": "3fa24a2a",
   "metadata": {},
   "outputs": [],
   "source": [
    "# Getting total spending\n",
    "ult_temp <- ult_table %>%\n",
    "    select(ends_with(\"_TotalStakes\"), Poker_TotalBuyingAmount)\n",
    "\n",
    "ult_table <- ult_table %>%\n",
    "    mutate(\n",
    "        TotalSpending = apply(ult_temp, 1, sum, na.rm = TRUE)\n",
    "    )"
   ]
  },
  {
   "cell_type": "code",
   "execution_count": 84,
   "id": "f44bef6a",
   "metadata": {
    "scrolled": false,
    "vscode": {
     "languageId": "r"
    }
   },
   "outputs": [],
   "source": [
    "# Segmenting customers based on poker chips buying amount\n",
    "ult_table <- ult_table %>%\n",
    "    mutate(\n",
    "        Segment = cut(\n",
    "            TotalSpending, \n",
    "            breaks = quantile(ult_table$TotalSpending, 0:4/4), \n",
    "            labels = c(\"Small Spender\", \"Medium Spender\", \"Big Spender\", \"Whale\")\n",
    "        )\n",
    "    )"
   ]
  },
  {
   "cell_type": "code",
   "execution_count": 85,
   "id": "15577006",
   "metadata": {
    "vscode": {
     "languageId": "r"
    }
   },
   "outputs": [],
   "source": [
    "# Write to file\n",
    "write.csv(ult_table, \"basetable.csv\")"
   ]
  }
 ],
 "metadata": {
  "kernelspec": {
   "display_name": "R",
   "language": "R",
   "name": "ir"
  },
  "language_info": {
   "codemirror_mode": "r",
   "file_extension": ".r",
   "mimetype": "text/x-r-source",
   "name": "R",
   "pygments_lexer": "r",
   "version": "4.2.1"
  }
 },
 "nbformat": 4,
 "nbformat_minor": 5
}
